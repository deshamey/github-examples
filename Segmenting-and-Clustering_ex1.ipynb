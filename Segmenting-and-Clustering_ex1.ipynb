{
 "cells": [
  {
   "cell_type": "code",
   "execution_count": 1,
   "metadata": {},
   "outputs": [
    {
     "name": "stdout",
     "output_type": "stream",
     "text": [
      "WARNING: pip is being invoked by an old script wrapper. This will fail in a future version of pip.\n",
      "Please see https://github.com/pypa/pip/issues/5599 for advice on fixing the underlying issue.\n",
      "To avoid this problem you can invoke Python with '-m pip' instead of running pip directly.\n",
      "Requirement already satisfied: BeautifulSoup4 in /srv/conda/envs/notebook/lib/python3.7/site-packages (4.8.2)\n",
      "Requirement already satisfied: soupsieve>=1.2 in /srv/conda/envs/notebook/lib/python3.7/site-packages (from BeautifulSoup4) (2.0)\n"
     ]
    }
   ],
   "source": [
    "! pip install BeautifulSoup4"
   ]
  },
  {
   "cell_type": "code",
   "execution_count": 2,
   "metadata": {},
   "outputs": [
    {
     "name": "stdout",
     "output_type": "stream",
     "text": [
      "Libraries imported.\n"
     ]
    }
   ],
   "source": [
    "import numpy as np # library to handle data in a vectorized manner\n",
    "import pandas as pd # library for data analsysis\n",
    "import requests \n",
    "from bs4 import BeautifulSoup \n",
    "\n",
    "print('Libraries imported.')"
   ]
  },
  {
   "cell_type": "code",
   "execution_count": 3,
   "metadata": {},
   "outputs": [
    {
     "name": "stdout",
     "output_type": "stream",
     "text": [
      "WARNING: pip is being invoked by an old script wrapper. This will fail in a future version of pip.\n",
      "Please see https://github.com/pypa/pip/issues/5599 for advice on fixing the underlying issue.\n",
      "To avoid this problem you can invoke Python with '-m pip' instead of running pip directly.\n",
      "Requirement already satisfied: lxml in /srv/conda/envs/notebook/lib/python3.7/site-packages (4.5.0)\n"
     ]
    }
   ],
   "source": [
    "URL = \"https://en.wikipedia.org/wiki/List_of_postal_codes_of_Canada:_M\"\n",
    "r = requests.get(URL) \n",
    "!pip install lxml  \n",
    "soup = BeautifulSoup(r.content, 'html') \n",
    "table = soup.find('div', attrs = {'id':'container'}) "
   ]
  },
  {
   "cell_type": "code",
   "execution_count": 4,
   "metadata": {},
   "outputs": [
    {
     "name": "stdout",
     "output_type": "stream",
     "text": [
      "Data Collected.\n"
     ]
    }
   ],
   "source": [
    "postalCodes = [];\n",
    "boroughs= [];\n",
    "neighborhoods = [];\n",
    "columnNum = 1;\n",
    "passVal = False\n",
    "\n",
    "for row in soup.find_all('td'):\n",
    "    for cell in row:\n",
    "        if cell.string and cell.string[0].isalpha() and len(cell.string) > 2:\n",
    "            passVal = False\n",
    "            if columnNum == 1:\n",
    "                if passVal == False and cell.string[1].isdigit():\n",
    "                    postalCodes.append(cell.string);   \n",
    "                    columnNum = 2\n",
    "                else:\n",
    "                    continue\n",
    "            elif columnNum == 2 :\n",
    "                if cell.string == 'Not assigned':\n",
    "                    passVal = True\n",
    "                    del postalCodes[-1]\n",
    "                    columnNum = 1\n",
    "                    continue\n",
    "                else:\n",
    "                    boroughs.append(cell.string);      \n",
    "                    columnNum = 3\n",
    "            elif columnNum == 3 :\n",
    "                if cell.string == 'Not assigned\\n':\n",
    "                    neighborhoods.append(boroughs[-1])\n",
    "                else:\n",
    "                    neighborhoods.append(cell.string); \n",
    "                columnNum = 1\n",
    "                \n",
    "print('Data Collected.')"
   ]
  },
  {
   "cell_type": "code",
   "execution_count": 5,
   "metadata": {},
   "outputs": [
    {
     "data": {
      "text/html": [
       "<div>\n",
       "<style scoped>\n",
       "    .dataframe tbody tr th:only-of-type {\n",
       "        vertical-align: middle;\n",
       "    }\n",
       "\n",
       "    .dataframe tbody tr th {\n",
       "        vertical-align: top;\n",
       "    }\n",
       "\n",
       "    .dataframe thead th {\n",
       "        text-align: right;\n",
       "    }\n",
       "</style>\n",
       "<table border=\"1\" class=\"dataframe\">\n",
       "  <thead>\n",
       "    <tr style=\"text-align: right;\">\n",
       "      <th></th>\n",
       "      <th>PostalCode</th>\n",
       "      <th>Borough</th>\n",
       "      <th>Neighborhood</th>\n",
       "    </tr>\n",
       "  </thead>\n",
       "  <tbody>\n",
       "  </tbody>\n",
       "</table>\n",
       "</div>"
      ],
      "text/plain": [
       "Empty DataFrame\n",
       "Columns: [PostalCode, Borough, Neighborhood]\n",
       "Index: []"
      ]
     },
     "execution_count": 5,
     "metadata": {},
     "output_type": "execute_result"
    }
   ],
   "source": [
    "# define the dataframe columns\n",
    "\n",
    "column_names = ['PostalCode', 'Borough', 'Neighborhood'] # The dataframe will consist of three columns: PostalCode, Borough, and Neighborhood\n",
    "\n",
    "# instantiate the dataframe\n",
    "neighbors = pd.DataFrame(columns=column_names)\n",
    "\n",
    "neighbors"
   ]
  },
  {
   "cell_type": "code",
   "execution_count": 18,
   "metadata": {},
   "outputs": [
    {
     "name": "stdout",
     "output_type": "stream",
     "text": [
      "    PostalCode           Borough  \\\n",
      "0          M3A        North York   \n",
      "1          M4A        North York   \n",
      "2          M5A  Downtown Toronto   \n",
      "3          M6A        North York   \n",
      "4          M6A        North York   \n",
      "5          M7A  Downtown Toronto   \n",
      "6          M9A         Etobicoke   \n",
      "7          M1B       Scarborough   \n",
      "8          M1B       Scarborough   \n",
      "9          M3B        North York   \n",
      "10         M4B         East York   \n",
      "11         M4B         East York   \n",
      "12         M5B  Downtown Toronto   \n",
      "13         M5B  Downtown Toronto   \n",
      "14         M6B        North York   \n",
      "15         M9B         Etobicoke   \n",
      "16         M9B         Etobicoke   \n",
      "17         M9B         Etobicoke   \n",
      "18         M9B         Etobicoke   \n",
      "19         M9B         Etobicoke   \n",
      "20         M1C       Scarborough   \n",
      "21         M1C       Scarborough   \n",
      "22         M1C       Scarborough   \n",
      "23         M3C        North York   \n",
      "24         M3C        North York   \n",
      "25         M4C         East York   \n",
      "26         M5C  Downtown Toronto   \n",
      "27         M6C              York   \n",
      "28         M9C         Etobicoke   \n",
      "29         M9C         Etobicoke   \n",
      "..         ...               ...   \n",
      "390        M9V         Etobicoke   \n",
      "391        M1W       Scarborough   \n",
      "392        M4W  Downtown Toronto   \n",
      "393        M5W  Downtown Toronto   \n",
      "394        M8W         Etobicoke   \n",
      "395        M8W         Etobicoke   \n",
      "396        M9W         Etobicoke   \n",
      "397        M1X       Scarborough   \n",
      "398        M4X  Downtown Toronto   \n",
      "399        M4X  Downtown Toronto   \n",
      "400        M5X  Downtown Toronto   \n",
      "401        M5X  Downtown Toronto   \n",
      "402        M8X         Etobicoke   \n",
      "403        M8X         Etobicoke   \n",
      "404        M8X         Etobicoke   \n",
      "405        M4Y  Downtown Toronto   \n",
      "406        M7Y      East Toronto   \n",
      "407        M8Y         Etobicoke   \n",
      "408        M8Y         Etobicoke   \n",
      "409        M8Y         Etobicoke   \n",
      "410        M8Y         Etobicoke   \n",
      "411        M8Y         Etobicoke   \n",
      "412        M8Y         Etobicoke   \n",
      "413        M8Y         Etobicoke   \n",
      "414        M8Y         Etobicoke   \n",
      "415        M8Z         Etobicoke   \n",
      "416        M8Z         Etobicoke   \n",
      "417        M8Z         Etobicoke   \n",
      "418        M8Z         Etobicoke   \n",
      "419        M8Z         Etobicoke   \n",
      "\n",
      "                                          Neighborhood  \n",
      "0                                            Parkwoods  \n",
      "1                                     Victoria Village  \n",
      "2                                         Harbourfront  \n",
      "3                                     Lawrence Heights  \n",
      "4                                       Lawrence Manor  \n",
      "5                                         Queen's Park  \n",
      "6                                     Islington Avenue  \n",
      "7                                                Rouge  \n",
      "8                                              Malvern  \n",
      "9                                     Don Mills North\n",
      "  \n",
      "10                                    Woodbine Gardens  \n",
      "11                                       Parkview Hill  \n",
      "12                                            Ryerson\n",
      "  \n",
      "13                                    Garden District\n",
      "  \n",
      "14                                          Glencairn\n",
      "  \n",
      "15                                         Cloverdale\n",
      "  \n",
      "16                                           Islington  \n",
      "17                                       Martin Grove\n",
      "  \n",
      "18                                    Princess Gardens  \n",
      "19                                     West Deane Park  \n",
      "20                                      Highland Creek  \n",
      "21                                          Rouge Hill  \n",
      "22                                          Port Union  \n",
      "23                                     Flemingdon Park  \n",
      "24                                    Don Mills South\n",
      "  \n",
      "25                                    Woodbine Heights  \n",
      "26                                      St. James Town  \n",
      "27                                  Humewood-Cedarvale  \n",
      "28                                  Bloordale Gardens\n",
      "  \n",
      "29                                           Eringate\n",
      "  \n",
      "..                                                 ...  \n",
      "390                                        Thistletown  \n",
      "391                                   L'Amoreaux West\n",
      "  \n",
      "392                                           Rosedale  \n",
      "393                   Stn A PO Boxes 25 The Esplanade\n",
      "  \n",
      "394                                          Alderwood  \n",
      "395                                        Long Branch  \n",
      "396                                         Northwest\n",
      "  \n",
      "397                                        Upper Rouge  \n",
      "398                                        Cabbagetown  \n",
      "399                                     St. James Town  \n",
      "400                               First Canadian Place  \n",
      "401                                   Underground city  \n",
      "402                                       The Kingsway  \n",
      "403                                   Montgomery Road\n",
      "  \n",
      "404                                    Old Mill North\n",
      "  \n",
      "405                               Church and Wellesley  \n",
      "406  Business Reply Mail Processing Centre 969 East...  \n",
      "407                                         Humber Bay  \n",
      "408                                  King's Mill Park\n",
      "  \n",
      "409                          Kingsway Park South East\n",
      "  \n",
      "410                                          Mimico NE  \n",
      "411                                     Old Mill South  \n",
      "412                                 The Queensway East  \n",
      "413                              Royal York South East  \n",
      "414                                           Sunnylea  \n",
      "415                          Kingsway Park South West\n",
      "  \n",
      "416                                          Mimico NW  \n",
      "417                                 The Queensway West  \n",
      "418                             Royal York South West\n",
      "  \n",
      "419                                    South of Bloor\n",
      "  \n",
      "\n",
      "[420 rows x 3 columns]\n"
     ]
    },
    {
     "data": {
      "text/html": [
       "<div>\n",
       "<style scoped>\n",
       "    .dataframe tbody tr th:only-of-type {\n",
       "        vertical-align: middle;\n",
       "    }\n",
       "\n",
       "    .dataframe tbody tr th {\n",
       "        vertical-align: top;\n",
       "    }\n",
       "\n",
       "    .dataframe thead th {\n",
       "        text-align: right;\n",
       "    }\n",
       "</style>\n",
       "<table border=\"1\" class=\"dataframe\">\n",
       "  <thead>\n",
       "    <tr style=\"text-align: right;\">\n",
       "      <th></th>\n",
       "      <th>PostalCode</th>\n",
       "      <th>Borough</th>\n",
       "      <th>Neighborhood</th>\n",
       "    </tr>\n",
       "  </thead>\n",
       "  <tbody>\n",
       "    <tr>\n",
       "      <th>0</th>\n",
       "      <td>M3A</td>\n",
       "      <td>North York</td>\n",
       "      <td>Parkwoods</td>\n",
       "    </tr>\n",
       "    <tr>\n",
       "      <th>1</th>\n",
       "      <td>M4A</td>\n",
       "      <td>North York</td>\n",
       "      <td>Victoria Village</td>\n",
       "    </tr>\n",
       "    <tr>\n",
       "      <th>2</th>\n",
       "      <td>M5A</td>\n",
       "      <td>Downtown Toronto</td>\n",
       "      <td>Harbourfront</td>\n",
       "    </tr>\n",
       "    <tr>\n",
       "      <th>3</th>\n",
       "      <td>M6A</td>\n",
       "      <td>North York</td>\n",
       "      <td>Lawrence Heights</td>\n",
       "    </tr>\n",
       "    <tr>\n",
       "      <th>4</th>\n",
       "      <td>M6A</td>\n",
       "      <td>North York</td>\n",
       "      <td>Lawrence Manor</td>\n",
       "    </tr>\n",
       "  </tbody>\n",
       "</table>\n",
       "</div>"
      ],
      "text/plain": [
       "  PostalCode           Borough      Neighborhood\n",
       "0        M3A        North York         Parkwoods\n",
       "1        M4A        North York  Victoria Village\n",
       "2        M5A  Downtown Toronto      Harbourfront\n",
       "3        M6A        North York  Lawrence Heights\n",
       "4        M6A        North York    Lawrence Manor"
      ]
     },
     "execution_count": 18,
     "metadata": {},
     "output_type": "execute_result"
    }
   ],
   "source": [
    "for data in range(len(neighborhoods)):\n",
    "    code = postalCodes[data]\n",
    "    borough = boroughs[data]\n",
    "    neighborhood_name = neighborhoods[data]\n",
    "\n",
    "    neighbors = neighbors.append({ 'PostalCode': code,\n",
    "                                   'Borough': borough,\n",
    "                                   'Neighborhood': neighborhood_name}, ignore_index=True)\n",
    "\n",
    "print(neighbors)\n",
    "\n",
    "# skip not assigned boroughs:\n",
    "df = neighbors.drop(neighbors[(neighbors.Borough == \"Not assigned\")].index)\n",
    "# give \"Not assigned\" Neighborhoods same name as Borough:\n",
    "neighbors.Neighborhood.replace(\"Not assigned\", neighbors.Borough, inplace=True)\n",
    "\n",
    "# copy Borough value to Neighborhood if NaN:\n",
    "neighbors.Neighborhood.fillna(df.Borough, inplace=True)\n",
    "# drop duplicate rows:\n",
    "neighbors=neighbors.drop_duplicates()\n",
    "\n",
    "neighbors.head()"
   ]
  },
  {
   "cell_type": "code",
   "execution_count": 16,
   "metadata": {},
   "outputs": [
    {
     "data": {
      "text/plain": [
       "(210, 3)"
      ]
     },
     "execution_count": 16,
     "metadata": {},
     "output_type": "execute_result"
    }
   ],
   "source": [
    "neighbors.shape"
   ]
  },
  {
   "cell_type": "code",
   "execution_count": null,
   "metadata": {},
   "outputs": [],
   "source": []
  }
 ],
 "metadata": {
  "kernelspec": {
   "display_name": "Python 3",
   "language": "python",
   "name": "python3"
  },
  "language_info": {
   "codemirror_mode": {
    "name": "ipython",
    "version": 3
   },
   "file_extension": ".py",
   "mimetype": "text/x-python",
   "name": "python",
   "nbconvert_exporter": "python",
   "pygments_lexer": "ipython3",
   "version": "3.7.6"
  }
 },
 "nbformat": 4,
 "nbformat_minor": 4
}
